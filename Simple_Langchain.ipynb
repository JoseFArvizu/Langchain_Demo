{
 "cells": [
  {
   "cell_type": "markdown",
   "id": "a43cd342-bf89-4ca4-8e67-a6732918693e",
   "metadata": {},
   "source": [
    "## Simple Langchain application"
   ]
  },
  {
   "cell_type": "markdown",
   "id": "746f2988-b756-4f34-a502-7355d2f160ed",
   "metadata": {},
   "source": [
    "### Setting up libraries"
   ]
  },
  {
   "cell_type": "code",
   "execution_count": 2,
   "id": "324abfb3-a355-467b-8dbe-6bf0b902b481",
   "metadata": {},
   "outputs": [],
   "source": [
    "from langchain.document_loaders import WebBaseLoader\n",
    "from langchain.text_splitter import RecursiveCharacterTextSplitter\n",
    "from langchain.embeddings import OpenAIEmbeddings\n",
    "from langchain.vectorstores import FAISS\n",
    "from langchain.memory import ConversationBufferMemory\n",
    "from langchain.llms import OpenAI\n",
    "from langchain.chains import ConversationalRetrievalChain\n",
    "from langchain.chat_models import ChatOpenAI\n",
    "import openai\n",
    "import config"
   ]
  },
  {
   "cell_type": "markdown",
   "id": "19316839-f81f-4d58-956e-da1ce48cd69a",
   "metadata": {},
   "source": [
    "### URL to get information about specific topic"
   ]
  },
  {
   "cell_type": "code",
   "execution_count": 16,
   "id": "06c35b1e-a753-454c-a6be-48ae3a13852f",
   "metadata": {},
   "outputs": [],
   "source": [
    "url = 'https://www.espn.com/nfl/story/_/id/44903523/inside-browns-decision-select-shedeur-sanders-2025-nfl-draft'"
   ]
  },
  {
   "cell_type": "markdown",
   "id": "a5a0ed31-3fe5-485e-9f3e-dc48ef7b3752",
   "metadata": {},
   "source": [
    "### Setup chatbot"
   ]
  },
  {
   "cell_type": "code",
   "execution_count": 17,
   "id": "2638fb7b-80f8-42aa-b437-62e7dea59d88",
   "metadata": {},
   "outputs": [],
   "source": [
    "loader = WebBaseLoader(url)"
   ]
  },
  {
   "cell_type": "code",
   "execution_count": 18,
   "id": "6879fa88-981c-47ea-98da-f7f0fb742994",
   "metadata": {},
   "outputs": [],
   "source": [
    "raw_documents = loader.load()"
   ]
  },
  {
   "cell_type": "code",
   "execution_count": 19,
   "id": "38da7f1a-1a4f-4935-9884-d4b2324461b4",
   "metadata": {},
   "outputs": [],
   "source": [
    "text_splitter = RecursiveCharacterTextSplitter()\n",
    "documents = text_splitter.split_documents(raw_documents)"
   ]
  },
  {
   "cell_type": "code",
   "execution_count": 20,
   "id": "520c8ca2-51ea-4dea-a373-27dc81a83e85",
   "metadata": {},
   "outputs": [],
   "source": [
    "api_key = config.api_key"
   ]
  },
  {
   "cell_type": "code",
   "execution_count": 21,
   "id": "f0225bd4-9399-4a90-a474-a271807d985b",
   "metadata": {},
   "outputs": [],
   "source": [
    "embeddings = OpenAIEmbeddings(openai_api_key = api_key)"
   ]
  },
  {
   "cell_type": "code",
   "execution_count": 22,
   "id": "4c0614de-29d3-4a85-be17-62752fe7a8b0",
   "metadata": {},
   "outputs": [],
   "source": [
    "vectorstore = FAISS.from_documents(documents, embeddings)"
   ]
  },
  {
   "cell_type": "code",
   "execution_count": 23,
   "id": "d926ef7f-8cd8-4b09-9636-cef369d81497",
   "metadata": {},
   "outputs": [],
   "source": [
    "memory = ConversationBufferMemory(memory_key = \"chat_history\", return_messages=True)"
   ]
  },
  {
   "cell_type": "code",
   "execution_count": 24,
   "id": "1a69e412-6929-47e5-9a77-16dbf395e7a3",
   "metadata": {},
   "outputs": [],
   "source": [
    "qa = ConversationalRetrievalChain.from_llm(ChatOpenAI(openai_api_key=api_key, \n",
    "                                                  model=\"gpt-3.5-turbo\", \n",
    "                                                  temperature=0), \n",
    "                                           vectorstore.as_retriever(), \n",
    "                                           memory=memory)"
   ]
  },
  {
   "cell_type": "markdown",
   "id": "7bb0dd0e-4188-4bf3-bba1-5dbe12b86e58",
   "metadata": {},
   "source": [
    "### Question"
   ]
  },
  {
   "cell_type": "code",
   "execution_count": 25,
   "id": "0fceec5d-8ad7-445d-8c70-c6b18c70f591",
   "metadata": {},
   "outputs": [],
   "source": [
    "query = 'What did Shedeur Sanders say about being the 144th pick in the NFL Draft?'"
   ]
  },
  {
   "cell_type": "code",
   "execution_count": 26,
   "id": "27e6e30a-4bc1-4b6a-88dd-1566744bc1a7",
   "metadata": {},
   "outputs": [],
   "source": [
    "result = qa({\"question\": query})"
   ]
  },
  {
   "cell_type": "code",
   "execution_count": 27,
   "id": "3342dd0a-2a8b-4f87-a369-f8d00dc64e5c",
   "metadata": {},
   "outputs": [
    {
     "data": {
      "text/plain": [
       "\"Shedeur Sanders expressed his gratitude for the opportunity he received despite being the 144th pick in the NFL Draft. He mentioned that he was thankful for the chance he got when many people didn't want to give him an opportunity.\""
      ]
     },
     "execution_count": 27,
     "metadata": {},
     "output_type": "execute_result"
    }
   ],
   "source": [
    "result[\"answer\"]"
   ]
  },
  {
   "cell_type": "code",
   "execution_count": null,
   "id": "3a47c022-0df3-4ef4-b053-91aea9d015a4",
   "metadata": {},
   "outputs": [],
   "source": []
  }
 ],
 "metadata": {
  "kernelspec": {
   "display_name": "llms_course_env",
   "language": "python",
   "name": "llms_course_env"
  },
  "language_info": {
   "codemirror_mode": {
    "name": "ipython",
    "version": 3
   },
   "file_extension": ".py",
   "mimetype": "text/x-python",
   "name": "python",
   "nbconvert_exporter": "python",
   "pygments_lexer": "ipython3",
   "version": "3.11.11"
  }
 },
 "nbformat": 4,
 "nbformat_minor": 5
}
